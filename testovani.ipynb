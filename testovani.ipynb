{
 "cells": [
  {
   "metadata": {
    "ExecuteTime": {
     "end_time": "2024-11-27T14:36:47.606701Z",
     "start_time": "2024-11-27T14:36:45.780302Z"
    }
   },
   "cell_type": "code",
   "source": [
    "from libs.data_finance import get_fin_data_3_day, get_fin_data_mult, get_fin_data_indiv\n",
    "from libs.model_training import use_model\n",
    "from datetime import datetime, timedelta\n",
    "from libs.data_indicators_fft import tech_indicators, fin_fourier\n",
    "from libs.data_trends import get_trends, filter_trends\n",
    "from libs.data_edit import fill_missing, get_only\n",
    "from libs.data_get import get_whole_data\n",
    "import pandas as pd"
   ],
   "id": "5c5c6bf62f6e0e99",
   "outputs": [
    {
     "ename": "ImportError",
     "evalue": "cannot import name 'get_fin_data_mult' from partially initialized module 'libs.data_finance' (most likely due to a circular import) (C:\\Users\\Pavel\\Desktop\\GH\\GAN-stock-prediction\\libs\\data_finance.py)",
     "output_type": "error",
     "traceback": [
      "\u001B[1;31m---------------------------------------------------------------------------\u001B[0m",
      "\u001B[1;31mImportError\u001B[0m                               Traceback (most recent call last)",
      "Cell \u001B[1;32mIn[1], line 1\u001B[0m\n\u001B[1;32m----> 1\u001B[0m \u001B[38;5;28;01mfrom\u001B[39;00m \u001B[38;5;21;01mlibs\u001B[39;00m\u001B[38;5;21;01m.\u001B[39;00m\u001B[38;5;21;01mdata_finance\u001B[39;00m \u001B[38;5;28;01mimport\u001B[39;00m get_fin_data_3_day, get_fin_data_mult, get_fin_data_indiv\n\u001B[0;32m      2\u001B[0m \u001B[38;5;28;01mfrom\u001B[39;00m \u001B[38;5;21;01mlibs\u001B[39;00m\u001B[38;5;21;01m.\u001B[39;00m\u001B[38;5;21;01mmodel_training\u001B[39;00m \u001B[38;5;28;01mimport\u001B[39;00m use_model\n\u001B[0;32m      3\u001B[0m \u001B[38;5;28;01mfrom\u001B[39;00m \u001B[38;5;21;01mdatetime\u001B[39;00m \u001B[38;5;28;01mimport\u001B[39;00m datetime, timedelta\n",
      "File \u001B[1;32m~\\Desktop\\GH\\GAN-stock-prediction\\libs\\data_finance.py:5\u001B[0m\n\u001B[0;32m      3\u001B[0m \u001B[38;5;28;01mimport\u001B[39;00m \u001B[38;5;21;01myfinance\u001B[39;00m \u001B[38;5;28;01mas\u001B[39;00m \u001B[38;5;21;01myf\u001B[39;00m\n\u001B[0;32m      4\u001B[0m \u001B[38;5;28;01mfrom\u001B[39;00m \u001B[38;5;21;01mdatetime\u001B[39;00m \u001B[38;5;28;01mimport\u001B[39;00m datetime, timedelta\n\u001B[1;32m----> 5\u001B[0m \u001B[38;5;28;01mfrom\u001B[39;00m \u001B[38;5;21;01mlibs\u001B[39;00m\u001B[38;5;21;01m.\u001B[39;00m\u001B[38;5;21;01mdata_edit\u001B[39;00m \u001B[38;5;28;01mimport\u001B[39;00m fill_missing\n\u001B[0;32m      6\u001B[0m \u001B[38;5;66;03m#import numpy as np\u001B[39;00m\n\u001B[0;32m      7\u001B[0m \u001B[38;5;28;01mfrom\u001B[39;00m \u001B[38;5;21;01mrequests\u001B[39;00m \u001B[38;5;28;01mimport\u001B[39;00m Session\n",
      "File \u001B[1;32m~\\Desktop\\GH\\GAN-stock-prediction\\libs\\data_edit.py:6\u001B[0m\n\u001B[0;32m      4\u001B[0m \u001B[38;5;28;01mimport\u001B[39;00m \u001B[38;5;21;01mpandas\u001B[39;00m \u001B[38;5;28;01mas\u001B[39;00m \u001B[38;5;21;01mpd\u001B[39;00m\n\u001B[0;32m      5\u001B[0m \u001B[38;5;28;01mimport\u001B[39;00m \u001B[38;5;21;01mnumpy\u001B[39;00m \u001B[38;5;28;01mas\u001B[39;00m \u001B[38;5;21;01mnp\u001B[39;00m\n\u001B[1;32m----> 6\u001B[0m \u001B[38;5;28;01mfrom\u001B[39;00m \u001B[38;5;21;01mlibs\u001B[39;00m\u001B[38;5;21;01m.\u001B[39;00m\u001B[38;5;21;01mdata_finance\u001B[39;00m \u001B[38;5;28;01mimport\u001B[39;00m get_fin_data_mult, check_empty_target, get_fin_data_indiv\n\u001B[0;32m      7\u001B[0m \u001B[38;5;28;01mfrom\u001B[39;00m \u001B[38;5;21;01mlibs\u001B[39;00m\u001B[38;5;21;01m.\u001B[39;00m\u001B[38;5;21;01mdata_indicators_fft\u001B[39;00m \u001B[38;5;28;01mimport\u001B[39;00m tech_indicators, fin_fourier\n\u001B[0;32m      8\u001B[0m \u001B[38;5;28;01mfrom\u001B[39;00m \u001B[38;5;21;01mlibs\u001B[39;00m\u001B[38;5;21;01m.\u001B[39;00m\u001B[38;5;21;01mdata_trends\u001B[39;00m \u001B[38;5;28;01mimport\u001B[39;00m get_trends, filter_trends\n",
      "\u001B[1;31mImportError\u001B[0m: cannot import name 'get_fin_data_mult' from partially initialized module 'libs.data_finance' (most likely due to a circular import) (C:\\Users\\Pavel\\Desktop\\GH\\GAN-stock-prediction\\libs\\data_finance.py)"
     ]
    }
   ],
   "execution_count": 1
  },
  {
   "cell_type": "code",
   "id": "initial_id",
   "metadata": {
    "collapsed": true
   },
   "source": [
    "data = get_fin_data_3_day(\"data/apple_tickers.csv\", \"AAPL\")\n",
    "data = fill_missing(data)\n",
    "data"
   ],
   "outputs": [],
   "execution_count": null
  },
  {
   "metadata": {},
   "cell_type": "code",
   "source": [
    "data = get_only(data, \"data/apple_tickers.csv\")\n",
    "data"
   ],
   "id": "9ca78d3dcf22850c",
   "outputs": [],
   "execution_count": null
  },
  {
   "metadata": {},
   "cell_type": "code",
   "source": [
    "ticker = \"AAPL\"\n",
    "date_start = datetime.now().date() - timedelta(days=42)\n",
    "date_end = datetime.now().date() + timedelta(days=1) \n",
    "prices = get_fin_data_indiv(ticker,date_start, date_end)\n",
    "prices = prices.iloc[:,:-2]\n",
    "prices"
   ],
   "id": "3a882a4b2359afb2",
   "outputs": [],
   "execution_count": null
  },
  {
   "metadata": {},
   "cell_type": "code",
   "source": "data_2 = get_whole_data(date_start, date_end, \"data/apple_tickers.csv\", \"AAPL\")",
   "id": "653704bcdd3ab61",
   "outputs": [],
   "execution_count": null
  },
  {
   "metadata": {},
   "cell_type": "code",
   "source": [
    "mavg = tech_indicators(prices)\n",
    "fft = fin_fourier(prices.iloc[:,3])\n",
    "mavg = mavg.iloc[-3:,:]\n",
    "fft = fft.iloc[-3:,:]"
   ],
   "id": "546552a55c86a44e",
   "outputs": [],
   "execution_count": null
  },
  {
   "metadata": {},
   "cell_type": "code",
   "source": "fft",
   "id": "1e499f618d44d29f",
   "outputs": [],
   "execution_count": null
  },
  {
   "metadata": {},
   "cell_type": "code",
   "source": [
    "prices = prices.iloc[-3:,:]\n",
    "prices = prices.merge(mavg, left_index=True, right_index=True, how='outer')\n",
    "fft.index = prices.index\n",
    "prices = prices.merge(fft, left_index=True, right_index=True, how='outer')\n",
    "prices"
   ],
   "id": "a096e6b041e5ca69",
   "outputs": [],
   "execution_count": null
  },
  {
   "metadata": {},
   "cell_type": "code",
   "source": [
    "keywords = ['iPhone', 'Apple',  'iMac']\n",
    "trends = get_trends(keywords)\n",
    "trends = filter_trends(list(prices.index.values), trends)\n"
   ],
   "id": "5a14f5419019a4d9",
   "outputs": [],
   "execution_count": null
  },
  {
   "metadata": {},
   "cell_type": "code",
   "source": "trends",
   "id": "b49932ac820fde09",
   "outputs": [],
   "execution_count": null
  },
  {
   "metadata": {},
   "cell_type": "code",
   "source": [
    "data = data.merge(mavg, left_index=True, right_index=True, how='outer')\n",
    "data = data.merge(trends, left_index=True, right_index=True, how='outer')\n",
    "data = data.merge(fft, left_index=True, right_index=True, how='outer')\n",
    "data"
   ],
   "id": "f3080a7d5b99e55b",
   "outputs": [],
   "execution_count": null
  },
  {
   "metadata": {},
   "cell_type": "code",
   "source": [
    "prices = prices.merge(trends, left_index=True, right_index=True, how='outer')\n",
    "prices"
   ],
   "id": "f91806d39d2869e3",
   "outputs": [],
   "execution_count": null
  },
  {
   "metadata": {},
   "cell_type": "code",
   "source": "",
   "id": "a5795c4803063f24",
   "outputs": [],
   "execution_count": null
  },
  {
   "metadata": {},
   "cell_type": "code",
   "source": [
    "model = use_model(\"data/apple_model.pth\", 69)\n",
    "\n"
   ],
   "id": "4bee940e7c6215f6",
   "outputs": [],
   "execution_count": null
  },
  {
   "metadata": {},
   "cell_type": "code",
   "source": "",
   "id": "108fe1316fb0aa61",
   "outputs": [],
   "execution_count": null
  }
 ],
 "metadata": {
  "kernelspec": {
   "display_name": "Python 3",
   "language": "python",
   "name": "python3"
  },
  "language_info": {
   "codemirror_mode": {
    "name": "ipython",
    "version": 2
   },
   "file_extension": ".py",
   "mimetype": "text/x-python",
   "name": "python",
   "nbconvert_exporter": "python",
   "pygments_lexer": "ipython2",
   "version": "2.7.6"
  }
 },
 "nbformat": 4,
 "nbformat_minor": 5
}
