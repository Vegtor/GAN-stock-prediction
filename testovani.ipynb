{
 "cells": [
  {
   "metadata": {
    "ExecuteTime": {
     "end_time": "2024-12-18T14:49:10.031835Z",
     "start_time": "2024-12-18T14:49:05.137096Z"
    }
   },
   "cell_type": "code",
   "source": [
    "from libs.data_finance import get_fin_data_indiv\n",
    "from libs.model_training import use_model, train_cycle_gan\n",
    "from datetime import datetime, timedelta\n",
    "from libs.data_get import obtain_whole_data, obtain_dataset_3_days\n",
    "#from libs.data_selection import rfe_feature_selection, advanced_anova_feature_selection"
   ],
   "id": "5c5c6bf62f6e0e99",
   "outputs": [],
   "execution_count": 1
  },
  {
   "metadata": {
    "ExecuteTime": {
     "end_time": "2024-12-18T14:49:19.437195Z",
     "start_time": "2024-12-18T14:49:19.242311Z"
    }
   },
   "cell_type": "code",
   "source": [
    "keywords = ['iPhone', 'Apple',  'iMac']\n",
    "file_ticker = \"data/apple_tickers.csv\"\n",
    "ticker = \"AAPL\"\n",
    "date_start = datetime.now().date() - timedelta(days=30)\n",
    "date_end = datetime.now().date() + timedelta(days=1)\n",
    "\n",
    "data_2 = obtain_whole_data(date_start, date_end, file_ticker, ticker, 0, keywords)\n",
    "#data_3 = obtain_dataset_3_days(file_ticker, ticker, 1, keywords)"
   ],
   "id": "5a14f5419019a4d9",
   "outputs": [],
   "execution_count": 3
  },
  {
   "metadata": {
    "ExecuteTime": {
     "end_time": "2024-12-18T14:49:20.653364Z",
     "start_time": "2024-12-18T14:49:20.619879Z"
    }
   },
   "cell_type": "code",
   "source": "target = get_fin_data_indiv(ticker, date_start, date_end)",
   "id": "ce39fc0dd1856c0c",
   "outputs": [],
   "execution_count": 4
  },
  {
   "metadata": {
    "ExecuteTime": {
     "end_time": "2024-12-18T14:49:39.428244Z",
     "start_time": "2024-12-18T14:49:21.986250Z"
    }
   },
   "cell_type": "code",
   "source": [
    "data = data_2\n",
    "results = train_cycle_gan(data, target)"
   ],
   "id": "b86e24158bcd107f",
   "outputs": [],
   "execution_count": 5
  },
  {
   "metadata": {
    "ExecuteTime": {
     "end_time": "2024-12-18T14:50:02.015288Z",
     "start_time": "2024-12-18T14:50:01.997029Z"
    }
   },
   "cell_type": "code",
   "source": "results",
   "id": "9f76e401e783bf69",
   "outputs": [
    {
     "data": {
      "text/plain": [
       "{'mse': np.float64(1298589525148962.2),\n",
       " 'rmse': 36035947.679351546,\n",
       " 'generator_shape': 66,\n",
       " 'train_true': array([[2.28396763e+02],\n",
       "        [4.21082999e+07],\n",
       "        [2.28396763e+02],\n",
       "        [2.31083519e+02],\n",
       "        [2.28396763e+02],\n",
       "        [2.31083519e+02],\n",
       "        [2.31083519e+02],\n",
       "        [3.81683001e+07],\n",
       "        [2.31083519e+02],\n",
       "        [2.33770275e+02]]),\n",
       " 'train_pred': array([[42458568. ],\n",
       "        [28926592. ],\n",
       "        [10179031. ],\n",
       "        [-2747992.8],\n",
       "        [-4805859.5],\n",
       "        [ 1227071. ],\n",
       "        [ 2336083.2],\n",
       "        [-1936377.4],\n",
       "        [-2481514.8],\n",
       "        [ 3282536.2]], dtype=float32),\n",
       " 'test_true': array([[2.47204055e+02],\n",
       "        [4.46492000e+07],\n",
       "        [2.47204055e+02]]),\n",
       " 'test_pred': array([[32849522.],\n",
       "        [40459300.],\n",
       "        [52907132.]], dtype=float32)}"
      ]
     },
     "execution_count": 7,
     "metadata": {},
     "output_type": "execute_result"
    }
   ],
   "execution_count": 7
  }
 ],
 "metadata": {
  "kernelspec": {
   "display_name": "Python 3",
   "language": "python",
   "name": "python3"
  },
  "language_info": {
   "codemirror_mode": {
    "name": "ipython",
    "version": 2
   },
   "file_extension": ".py",
   "mimetype": "text/x-python",
   "name": "python",
   "nbconvert_exporter": "python",
   "pygments_lexer": "ipython2",
   "version": "2.7.6"
  }
 },
 "nbformat": 4,
 "nbformat_minor": 5
}
