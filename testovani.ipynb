{
 "cells": [
  {
   "metadata": {},
   "cell_type": "code",
   "source": [
    "from libs.model_training import use_model\n",
    "from datetime import datetime, timedelta\n",
    "from libs.data_get import obtain_whole_data, obtain_dataset_3_days"
   ],
   "id": "5c5c6bf62f6e0e99",
   "outputs": [],
   "execution_count": null
  },
  {
   "metadata": {},
   "cell_type": "code",
   "source": [
    "keywords = ['iPhone', 'Apple',  'iMac']\n",
    "file_ticker = \"data/apple_tickers.csv\"\n",
    "ticker = \"AAPL\"\n",
    "date_start = datetime.now().date() - timedelta(days=5)\n",
    "date_end = datetime.now().date() + timedelta(days=1)\n",
    "data_2 = obtain_whole_data(date_start, date_end, file_ticker, ticker)\n",
    "data_3 = obtain_dataset_3_days(file_ticker, ticker)"
   ],
   "id": "5a14f5419019a4d9",
   "outputs": [],
   "execution_count": null
  },
  {
   "metadata": {},
   "cell_type": "code",
   "source": "data_2",
   "id": "5c568e14072dd333",
   "outputs": [],
   "execution_count": null
  },
  {
   "metadata": {},
   "cell_type": "code",
   "outputs": [],
   "execution_count": null,
   "source": "data_3",
   "id": "fec1b18ccdd6281d"
  }
 ],
 "metadata": {
  "kernelspec": {
   "display_name": "Python 3",
   "language": "python",
   "name": "python3"
  },
  "language_info": {
   "codemirror_mode": {
    "name": "ipython",
    "version": 2
   },
   "file_extension": ".py",
   "mimetype": "text/x-python",
   "name": "python",
   "nbconvert_exporter": "python",
   "pygments_lexer": "ipython2",
   "version": "2.7.6"
  }
 },
 "nbformat": 4,
 "nbformat_minor": 5
}
