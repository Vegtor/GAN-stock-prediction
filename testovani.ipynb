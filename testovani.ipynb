{
 "cells": [
  {
   "metadata": {
    "ExecuteTime": {
     "end_time": "2024-12-04T21:10:09.986089Z",
     "start_time": "2024-12-04T21:10:09.982169Z"
    }
   },
   "cell_type": "code",
   "source": [
    "from libs.model_training import use_model, train_cycle_gan\n",
    "from datetime import datetime, timedelta\n",
    "from libs.data_get import obtain_whole_data, obtain_dataset_3_days\n",
    "from libs.data_selection import rfe_feature_selection, advanced_anova_feature_selection"
   ],
   "id": "5c5c6bf62f6e0e99",
   "outputs": [],
   "execution_count": 2
  },
  {
   "metadata": {
    "ExecuteTime": {
     "end_time": "2024-12-04T20:49:06.256856Z",
     "start_time": "2024-12-04T20:49:03.881764Z"
    }
   },
   "cell_type": "code",
   "source": [
    "keywords = ['iPhone', 'Apple',  'iMac']\n",
    "file_ticker = \"data/apple_tickers.csv\"\n",
    "ticker = \"AAPL\"\n",
    "date_start = datetime.now().date() - timedelta(days=5)\n",
    "date_end = datetime.now().date() + timedelta(days=1)\n",
    "\n",
    "data_2 = obtain_whole_data(date_start, date_end, file_ticker, ticker, 1, keywords)\n",
    "data_3 = obtain_dataset_3_days(file_ticker, ticker, 1, keywords)"
   ],
   "id": "5a14f5419019a4d9",
   "outputs": [
    {
     "name": "stderr",
     "output_type": "stream",
     "text": [
      "C:\\Users\\Pavel\\Desktop\\GH\\GAN-stock-prediction\\venv\\Lib\\site-packages\\pytrends\\request.py:260: FutureWarning: Downcasting object dtype arrays on .fillna, .ffill, .bfill is deprecated and will change in a future version. Call result.infer_objects(copy=False) instead. To opt-in to the future behavior, set `pd.set_option('future.no_silent_downcasting', True)`\n",
      "  df = df.fillna(False)\n",
      "C:\\Users\\Pavel\\Desktop\\GH\\GAN-stock-prediction\\venv\\Lib\\site-packages\\pytrends\\request.py:260: FutureWarning: Downcasting object dtype arrays on .fillna, .ffill, .bfill is deprecated and will change in a future version. Call result.infer_objects(copy=False) instead. To opt-in to the future behavior, set `pd.set_option('future.no_silent_downcasting', True)`\n",
      "  df = df.fillna(False)\n"
     ]
    }
   ],
   "execution_count": 2
  },
  {
   "metadata": {},
   "cell_type": "code",
   "outputs": [],
   "execution_count": null,
   "source": "results = train_cycle_gan()",
   "id": "b86e24158bcd107f"
  }
 ],
 "metadata": {
  "kernelspec": {
   "display_name": "Python 3",
   "language": "python",
   "name": "python3"
  },
  "language_info": {
   "codemirror_mode": {
    "name": "ipython",
    "version": 2
   },
   "file_extension": ".py",
   "mimetype": "text/x-python",
   "name": "python",
   "nbconvert_exporter": "python",
   "pygments_lexer": "ipython2",
   "version": "2.7.6"
  }
 },
 "nbformat": 4,
 "nbformat_minor": 5
}
